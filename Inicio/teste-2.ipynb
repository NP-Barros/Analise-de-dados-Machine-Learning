{
 "cells": [
  {
   "cell_type": "markdown",
   "metadata": {},
   "source": [
    "Teste"
   ]
  },
  {
   "cell_type": "code",
   "execution_count": 2,
   "metadata": {},
   "outputs": [],
   "source": [
    "# LISTAS PYTHON\n",
    "\n",
    "# LISTAS\n",
    "nomes = [\"Vitor\", \"Vanessa\", \"Laura\"]\n",
    "idades = [10, 20, 15]\n",
    "\n",
    "# TUPLAS\n",
    "sexo = (\"M\", \"F\", \"O\")\n",
    "# DICIONARIOS\n",
    "\n",
    "cadastro = {\n",
    "    \"nomes\": nomes,\n",
    "    \"idades\": idades,\n",
    "    'cidade': ['A', 'B', 'C']\n",
    "}"
   ]
  },
  {
   "cell_type": "code",
   "execution_count": 3,
   "metadata": {},
   "outputs": [
    {
     "data": {
      "text/plain": [
       "'Vanessa'"
      ]
     },
     "execution_count": 3,
     "metadata": {},
     "output_type": "execute_result"
    }
   ],
   "source": [
    "#Imprime o segundo nome de uma lista\n",
    "nomes[1]"
   ]
  },
  {
   "cell_type": "code",
   "execution_count": null,
   "metadata": {},
   "outputs": [],
   "source": [
    "#Imprime o segundo re de uma lista"
   ]
  }
 ],
 "metadata": {
  "kernelspec": {
   "display_name": "venv",
   "language": "python",
   "name": "python3"
  },
  "language_info": {
   "codemirror_mode": {
    "name": "ipython",
    "version": 3
   },
   "file_extension": ".py",
   "mimetype": "text/x-python",
   "name": "python",
   "nbconvert_exporter": "python",
   "pygments_lexer": "ipython3",
   "version": "3.10.12"
  }
 },
 "nbformat": 4,
 "nbformat_minor": 2
}
