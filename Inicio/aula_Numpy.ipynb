{
 "cells": [
  {
   "cell_type": "markdown",
   "metadata": {},
   "source": [
    "Aula de numpy"
   ]
  },
  {
   "cell_type": "code",
   "execution_count": 16,
   "metadata": {},
   "outputs": [
    {
     "name": "stdout",
     "output_type": "stream",
     "text": [
      "[ 5 10]\n"
     ]
    }
   ],
   "source": [
    "#Transformar uma lista em um array no numpy\n",
    "idades2=[10,15,20,18]\n",
    "import numpy as np\n",
    "\n",
    "idades=np.array([10,15,20,18,20])\n",
    "notas=np.array([9,8,5,7,10])\n",
    "\n",
    "#aqui esta buscando na posição que esta o numero 20 no caso posição 2 no array de notas\n",
    "#se tiver dois numeros de idade igual ele buscará as duas  notas\n",
    "print(notas[idades==20])\n"
   ]
  },
  {
   "cell_type": "code",
   "execution_count": 15,
   "metadata": {},
   "outputs": [
    {
     "name": "stdout",
     "output_type": "stream",
     "text": [
      "16.6\n",
      "83\n"
     ]
    }
   ],
   "source": [
    "#funções numpy\n",
    "print(np.mean(idades))\n",
    "print(np.sum(idades))"
   ]
  },
  {
   "cell_type": "code",
   "execution_count": 20,
   "metadata": {},
   "outputs": [
    {
     "data": {
      "text/plain": [
       "950"
      ]
     },
     "execution_count": 20,
     "metadata": {},
     "output_type": "execute_result"
    }
   ],
   "source": [
    "#Simulação de historico de salarios de 3 pessoas por 3 anos\n",
    "\n",
    "salario=np.array([[1000,1200,1300], [800,900,950], [2000,2100,2110]])\n",
    "#para acessar um dado dentro de uma lista/array dentro de outra lista/array\n",
    "salario[1,2]"
   ]
  },
  {
   "cell_type": "code",
   "execution_count": null,
   "metadata": {},
   "outputs": [],
   "source": []
  }
 ],
 "metadata": {
  "kernelspec": {
   "display_name": "venv",
   "language": "python",
   "name": "python3"
  },
  "language_info": {
   "codemirror_mode": {
    "name": "ipython",
    "version": 3
   },
   "file_extension": ".py",
   "mimetype": "text/x-python",
   "name": "python",
   "nbconvert_exporter": "python",
   "pygments_lexer": "ipython3",
   "version": "3.10.12"
  }
 },
 "nbformat": 4,
 "nbformat_minor": 2
}
